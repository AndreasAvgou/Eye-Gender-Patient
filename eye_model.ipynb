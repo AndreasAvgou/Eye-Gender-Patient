{
  "cells": [
    {
      "cell_type": "markdown",
      "metadata": {
        "id": "mDU7z-Q5BKkG"
      },
      "source": [
        "## Import libraries"
      ]
    },
    {
      "cell_type": "code",
      "execution_count": null,
      "metadata": {
        "id": "BIe16kmoUmhr"
      },
      "outputs": [],
      "source": [
        "import pandas as pd                                     \n",
        "import numpy as np                                      \n",
        "import tensorflow as tf                                 \n",
        "import os                                               \n",
        "import cv2                                              \n",
        "import matplotlib.pyplot as plt\n",
        "from sklearn.model_selection import train_test_split # For splitting the data into train and validation set\n",
        "from sklearn.metrics import f1_score"
      ]
    },
    {
      "cell_type": "code",
      "execution_count": null,
      "metadata": {
        "colab": {
          "base_uri": "https://localhost:8080/"
        },
        "id": "F94P1xdkQwgf",
        "outputId": "6d1e0d9e-5e33-48b4-e4e4-9fb5e02c4cc4"
      },
      "outputs": [
        {
          "name": "stdout",
          "output_type": "stream",
          "text": [
            "Drive already mounted at /content/drive; to attempt to forcibly remount, call drive.mount(\"/content/drive\", force_remount=True).\n"
          ]
        }
      ],
      "source": [
        "from google.colab import drive\n",
        "drive.mount('/content/drive')"
      ]
    },
    {
      "cell_type": "markdown",
      "metadata": {
        "id": "IAXqCpedduVx"
      },
      "source": [
        "## Loading and preparing training data\n"
      ]
    },
    {
      "cell_type": "code",
      "execution_count": null,
      "metadata": {
        "colab": {
          "background_save": true
        },
        "id": "vMXmX8g3dflK"
      },
      "outputs": [],
      "source": [
        "labels = pd.read_csv(\"/content/drive/MyDrive/eye_gender_data/Training_set.csv\")   # loading the labels\n",
        "file_paths = [[fname, '/content/drive/MyDrive/eye_gender_data/train/' + fname] for fname in labels['filename']]\n",
        "images = pd.DataFrame(file_paths, columns=['filename', 'filepaths'])\n",
        "train_data = pd.merge(images, labels, how = 'inner', on = 'filename')\n",
        "\n",
        "data = []     \n",
        "image_size = 32      # image size taken is 32 here. \n",
        "\n",
        "for i in range(len(train_data)):\n",
        "  \n",
        "  img_array = cv2.imread(train_data['filepaths'][i], cv2.IMREAD_GRAYSCALE)   # converting the image to gray scale\n",
        "  new_img_array = cv2.resize(img_array,(image_size,image_size))      # resizing the image array\n",
        "  data.append(new_img_array) "
      ]
    },
    {
      "cell_type": "markdown",
      "metadata": {
        "id": "BvIxaRD6sn3m"
      },
      "source": [
        "## Data Pre-processing\n",
        "It is necessary to bring all the images to the same shape and size as defined by the VGG-19 model. Also, convert all the labels from categorical to numerical values."
      ]
    },
    {
      "cell_type": "code",
      "execution_count": null,
      "metadata": {
        "colab": {
          "background_save": true
        },
        "id": "ZeRRAYJh2I0i"
      },
      "outputs": [],
      "source": [
        "arr = np.array(data)"
      ]
    },
    {
      "cell_type": "code",
      "execution_count": null,
      "metadata": {
        "colab": {
          "background_save": true
        },
        "id": "YRC8bBYwUvGi",
        "outputId": "a67f4544-40fb-41c5-f7d0-c1def71fe460"
      },
      "outputs": [
        {
          "data": {
            "text/plain": [
              "array([[[189, 188, 182, ..., 178, 177, 172],\n",
              "        [187, 179, 179, ..., 175, 172, 162],\n",
              "        [185, 181, 184, ..., 168, 157, 149],\n",
              "        ...,\n",
              "        [142, 136, 148, ..., 164, 162, 164],\n",
              "        [140, 150, 161, ..., 169, 164, 164],\n",
              "        [139, 154, 163, ..., 173, 167, 164]],\n",
              "\n",
              "       [[170, 175, 172, ..., 190, 193, 194],\n",
              "        [165, 152, 136, ..., 186, 189, 191],\n",
              "        [147, 124, 107, ..., 183, 189, 193],\n",
              "        ...,\n",
              "        [188, 189, 190, ..., 191, 197, 202],\n",
              "        [187, 190, 190, ..., 195, 197, 196],\n",
              "        [186, 190, 190, ..., 200, 201, 197]],\n",
              "\n",
              "       [[176, 172, 172, ..., 135, 128, 127],\n",
              "        [168, 165, 165, ...,  91, 114, 111],\n",
              "        [164, 165, 162, ...,  76,  62,  68],\n",
              "        ...,\n",
              "        [131, 143, 148, ..., 115, 112, 103],\n",
              "        [131, 145, 150, ..., 113, 108,  99],\n",
              "        [130, 144, 150, ..., 114, 106,  95]],\n",
              "\n",
              "       ...,\n",
              "\n",
              "       [[190, 175, 169, ..., 100, 115, 135],\n",
              "        [177, 161, 147, ...,  83, 103, 101],\n",
              "        [158, 138, 130, ...,  74,  72,  64],\n",
              "        ...,\n",
              "        [144, 137, 134, ..., 150, 151, 148],\n",
              "        [147, 139, 138, ..., 148, 149, 149],\n",
              "        [145, 138, 137, ..., 151, 155, 153]],\n",
              "\n",
              "       [[142, 137, 137, ..., 129, 135, 141],\n",
              "        [141, 142, 128, ..., 107, 117, 126],\n",
              "        [138, 126, 118, ..., 102, 106, 117],\n",
              "        ...,\n",
              "        [157, 147, 143, ..., 154, 153, 171],\n",
              "        [160, 160, 153, ..., 153, 154, 177],\n",
              "        [158, 163, 160, ..., 155, 170, 175]],\n",
              "\n",
              "       [[225, 226, 223, ..., 144, 146, 153],\n",
              "        [223, 224, 223, ..., 146, 144, 130],\n",
              "        [222, 220, 225, ..., 148, 154, 163],\n",
              "        ...,\n",
              "        [205, 195, 194, ..., 223, 219, 221],\n",
              "        [206, 199, 197, ..., 220, 220, 221],\n",
              "        [209, 204, 202, ..., 222, 222, 221]]], dtype=uint8)"
            ]
          },
          "execution_count": null,
          "metadata": {},
          "output_type": "execute_result"
        }
      ],
      "source": [
        "arr"
      ]
    },
    {
      "cell_type": "code",
      "execution_count": null,
      "metadata": {
        "colab": {
          "background_save": true
        },
        "id": "e4puB71FU6xl",
        "outputId": "80bdd232-1b15-4710-e396-e93050f6a16a"
      },
      "outputs": [
        {
          "data": {
            "text/plain": [
              "(9220, 32, 32)"
            ]
          },
          "execution_count": null,
          "metadata": {},
          "output_type": "execute_result"
        }
      ],
      "source": [
        "arr.shape"
      ]
    },
    {
      "cell_type": "code",
      "execution_count": null,
      "metadata": {
        "colab": {
          "background_save": true
        },
        "id": "2SM7bhmwDAG8",
        "outputId": "5dacd69e-e08d-4254-e13a-a51a9410a6ea"
      },
      "outputs": [
        {
          "name": "stdout",
          "output_type": "stream",
          "text": [
            "\n",
            "Train_images.shape: (9220, 32, 32, 3), of uint8\n"
          ]
        }
      ],
      "source": [
        "# reshape into 3 channels for feeding into the model\n",
        "train_images_3ch = np.stack([arr]*3, axis=-1)\n",
        "print('\\nTrain_images.shape: {}, of {}'.format(train_images_3ch.shape, train_images_3ch.dtype))"
      ]
    },
    {
      "cell_type": "code",
      "execution_count": null,
      "metadata": {
        "colab": {
          "background_save": true
        },
        "id": "vxPiZCLpsWrd"
      },
      "outputs": [],
      "source": [
        "# normalisation\n",
        "train_images_scaled = train_images_3ch / 255."
      ]
    },
    {
      "cell_type": "code",
      "execution_count": null,
      "metadata": {
        "colab": {
          "background_save": true
        },
        "id": "ypkgeyllXtDT",
        "outputId": "78a28abb-915a-49f7-dd7b-db68b82ded77"
      },
      "outputs": [
        {
          "name": "stderr",
          "output_type": "stream",
          "text": [
            "/usr/local/lib/python3.7/dist-packages/sklearn/preprocessing/_label.py:115: DataConversionWarning: A column-vector y was passed when a 1d array was expected. Please change the shape of y to (n_samples, ), for example using ravel().\n",
            "  y = column_or_1d(y, warn=True)\n"
          ]
        }
      ],
      "source": [
        "# encode labels\n",
        "from sklearn.preprocessing import LabelEncoder\n",
        "le = LabelEncoder()\n",
        "train_labels = le.fit_transform(train_data[['label']])"
      ]
    },
    {
      "cell_type": "code",
      "execution_count": null,
      "metadata": {
        "colab": {
          "background_save": true
        },
        "id": "MxvuOgzqHvAo",
        "outputId": "f26863e7-5ddc-43d0-914b-0a8552b6a301"
      },
      "outputs": [
        {
          "data": {
            "text/plain": [
              "(9220,)"
            ]
          },
          "execution_count": null,
          "metadata": {},
          "output_type": "execute_result"
        }
      ],
      "source": [
        "train_labels.shape"
      ]
    },
    {
      "cell_type": "markdown",
      "metadata": {
        "id": "cDCZ53yE7340"
      },
      "source": [
        "## Building Model & Hyperparameter tuning\n"
      ]
    },
    {
      "cell_type": "code",
      "execution_count": null,
      "metadata": {
        "colab": {
          "background_save": true
        },
        "id": "kOKWYA6Ua4Uh",
        "outputId": "93936567-42e9-44a7-ce44-709b1be5022b"
      },
      "outputs": [
        {
          "name": "stdout",
          "output_type": "stream",
          "text": [
            "Model: \"vgg19\"\n",
            "_________________________________________________________________\n",
            " Layer (type)                Output Shape              Param #   \n",
            "=================================================================\n",
            " input_1 (InputLayer)        [(None, 32, 32, 3)]       0         \n",
            "                                                                 \n",
            " block1_conv1 (Conv2D)       (None, 32, 32, 64)        1792      \n",
            "                                                                 \n",
            " block1_conv2 (Conv2D)       (None, 32, 32, 64)        36928     \n",
            "                                                                 \n",
            " block1_pool (MaxPooling2D)  (None, 16, 16, 64)        0         \n",
            "                                                                 \n",
            " block2_conv1 (Conv2D)       (None, 16, 16, 128)       73856     \n",
            "                                                                 \n",
            " block2_conv2 (Conv2D)       (None, 16, 16, 128)       147584    \n",
            "                                                                 \n",
            " block2_pool (MaxPooling2D)  (None, 8, 8, 128)         0         \n",
            "                                                                 \n",
            " block3_conv1 (Conv2D)       (None, 8, 8, 256)         295168    \n",
            "                                                                 \n",
            " block3_conv2 (Conv2D)       (None, 8, 8, 256)         590080    \n",
            "                                                                 \n",
            " block3_conv3 (Conv2D)       (None, 8, 8, 256)         590080    \n",
            "                                                                 \n",
            " block3_conv4 (Conv2D)       (None, 8, 8, 256)         590080    \n",
            "                                                                 \n",
            " block3_pool (MaxPooling2D)  (None, 4, 4, 256)         0         \n",
            "                                                                 \n",
            " block4_conv1 (Conv2D)       (None, 4, 4, 512)         1180160   \n",
            "                                                                 \n",
            " block4_conv2 (Conv2D)       (None, 4, 4, 512)         2359808   \n",
            "                                                                 \n",
            " block4_conv3 (Conv2D)       (None, 4, 4, 512)         2359808   \n",
            "                                                                 \n",
            " block4_conv4 (Conv2D)       (None, 4, 4, 512)         2359808   \n",
            "                                                                 \n",
            " block4_pool (MaxPooling2D)  (None, 2, 2, 512)         0         \n",
            "                                                                 \n",
            " block5_conv1 (Conv2D)       (None, 2, 2, 512)         2359808   \n",
            "                                                                 \n",
            " block5_conv2 (Conv2D)       (None, 2, 2, 512)         2359808   \n",
            "                                                                 \n",
            " block5_conv3 (Conv2D)       (None, 2, 2, 512)         2359808   \n",
            "                                                                 \n",
            " block5_conv4 (Conv2D)       (None, 2, 2, 512)         2359808   \n",
            "                                                                 \n",
            " block5_pool (MaxPooling2D)  (None, 1, 1, 512)         0         \n",
            "                                                                 \n",
            "=================================================================\n",
            "Total params: 20,024,384\n",
            "Trainable params: 20,024,384\n",
            "Non-trainable params: 0\n",
            "_________________________________________________________________\n"
          ]
        }
      ],
      "source": [
        "# Build VGG19 Model\n",
        "\n",
        "# define input shape\n",
        "INPUT_SHAPE = (32, 32, 3)\n",
        "\n",
        "# get the VGG19 model\n",
        "vgg_layers = tf.keras.applications.vgg19.VGG19(weights='imagenet', include_top=False, \n",
        "                                               input_shape=INPUT_SHAPE) \n",
        "\n",
        "vgg_layers.summary()"
      ]
    },
    {
      "cell_type": "code",
      "execution_count": null,
      "metadata": {
        "colab": {
          "background_save": true
        },
        "id": "ZQWMyQLva53K",
        "outputId": "0d4089dc-672a-4114-b52a-bacdf3fad045"
      },
      "outputs": [
        {
          "name": "stdout",
          "output_type": "stream",
          "text": [
            "<keras.engine.input_layer.InputLayer object at 0x7f0e6e83a510> True\n",
            "<keras.layers.convolutional.Conv2D object at 0x7f0e64405cd0> True\n",
            "<keras.layers.convolutional.Conv2D object at 0x7f0e637b41d0> True\n",
            "<keras.layers.pooling.MaxPooling2D object at 0x7f0e637175d0> True\n",
            "<keras.layers.convolutional.Conv2D object at 0x7f0e605a87d0> True\n",
            "<keras.layers.convolutional.Conv2D object at 0x7f0e605a83d0> True\n",
            "<keras.layers.pooling.MaxPooling2D object at 0x7f0e64331f50> True\n",
            "<keras.layers.convolutional.Conv2D object at 0x7f0e605a8dd0> True\n",
            "<keras.layers.convolutional.Conv2D object at 0x7f0e605bb2d0> True\n",
            "<keras.layers.convolutional.Conv2D object at 0x7f0e605530d0> True\n",
            "<keras.layers.convolutional.Conv2D object at 0x7f0e6054ac50> True\n",
            "<keras.layers.pooling.MaxPooling2D object at 0x7f0e60557f90> True\n",
            "<keras.layers.convolutional.Conv2D object at 0x7f0e6055f850> True\n",
            "<keras.layers.convolutional.Conv2D object at 0x7f0e60564e90> True\n",
            "<keras.layers.convolutional.Conv2D object at 0x7f0e60557390> True\n",
            "<keras.layers.convolutional.Conv2D object at 0x7f0e60559b50> True\n",
            "<keras.layers.pooling.MaxPooling2D object at 0x7f0e60574c50> True\n",
            "<keras.layers.convolutional.Conv2D object at 0x7f0e60559a10> True\n",
            "<keras.layers.convolutional.Conv2D object at 0x7f0e60579b10> True\n",
            "<keras.layers.convolutional.Conv2D object at 0x7f0e60506290> True\n",
            "<keras.layers.convolutional.Conv2D object at 0x7f0e6057c0d0> True\n",
            "<keras.layers.pooling.MaxPooling2D object at 0x7f0e60510890> True\n"
          ]
        }
      ],
      "source": [
        "# Fine-tune all the layers\n",
        "for layer in vgg_layers.layers:\n",
        "    layer.trainable = True \n",
        "\n",
        "# Check the trainable status of the individual layers\n",
        "for layer in vgg_layers.layers:\n",
        "    print(layer, layer.trainable)"
      ]
    },
    {
      "cell_type": "code",
      "execution_count": null,
      "metadata": {
        "colab": {
          "background_save": true
        },
        "id": "_jkmDd6PbAJH",
        "outputId": "ec7ec335-927d-4e0d-ffe6-63b02c164471"
      },
      "outputs": [
        {
          "name": "stdout",
          "output_type": "stream",
          "text": [
            "Model: \"sequential\"\n",
            "_________________________________________________________________\n",
            " Layer (type)                Output Shape              Param #   \n",
            "=================================================================\n",
            " vgg19 (Functional)          (None, 1, 1, 512)         20024384  \n",
            "                                                                 \n",
            " flatten (Flatten)           (None, 512)               0         \n",
            "                                                                 \n",
            " dense (Dense)               (None, 256)               131328    \n",
            "                                                                 \n",
            " dropout (Dropout)           (None, 256)               0         \n",
            "                                                                 \n",
            " dense_1 (Dense)             (None, 256)               65792     \n",
            "                                                                 \n",
            " dropout_1 (Dropout)         (None, 256)               0         \n",
            "                                                                 \n",
            " dense_2 (Dense)             (None, 1)                 257       \n",
            "                                                                 \n",
            "=================================================================\n",
            "Total params: 20,221,761\n",
            "Trainable params: 20,221,761\n",
            "Non-trainable params: 0\n",
            "_________________________________________________________________\n"
          ]
        }
      ],
      "source": [
        "# Build CNN model on top of VGG19\n",
        "\n",
        "# define sequential model\n",
        "model = tf.keras.models.Sequential()\n",
        "\n",
        "# Add the vgg convolutional base model\n",
        "model.add(vgg_layers)\n",
        "\n",
        "# add flatten layer\n",
        "model.add(tf.keras.layers.Flatten())\n",
        "\n",
        "# add dense layers with some dropout\n",
        "model.add(tf.keras.layers.Dense(256, activation='relu'))\n",
        "model.add(tf.keras.layers.Dropout(rate=0.3))\n",
        "model.add(tf.keras.layers.Dense(256, activation='relu'))\n",
        "model.add(tf.keras.layers.Dropout(rate=0.3))\n",
        "\n",
        "# add output layer\n",
        "model.add(tf.keras.layers.Dense(1, activation='sigmoid')) #single node with ‘sigmoid‘ activation\n",
        "\n",
        "# compile model\n",
        "model.compile(optimizer=tf.keras.optimizers.Adam(learning_rate=2e-5), \n",
        "              loss='binary_crossentropy', \n",
        "              metrics=['accuracy'])\n",
        "\n",
        "# view model layers\n",
        "model.summary()"
      ]
    },
    {
      "cell_type": "code",
      "execution_count": null,
      "metadata": {
        "id": "eHDpTUcwG_e0"
      },
      "outputs": [],
      "source": [
        "EPOCHS = 5\n",
        "\n",
        "es_callback = tf.keras.callbacks.EarlyStopping(monitor='val_loss', patience=2, \n",
        "                                               restore_best_weights=True,\n",
        "                                               verbose=1)\n",
        "\n",
        "history = model.fit(train_images_scaled, train_labels,\n",
        "                    batch_size=256,\n",
        "                    callbacks=[es_callback], \n",
        "                    validation_split=0.1, epochs=EPOCHS, \n",
        "                    verbose=1)"
      ]
    },
    {
      "cell_type": "markdown",
      "metadata": {
        "id": "tc3lSJ2a-OYt"
      },
      "source": [
        "## Validate the model\n"
      ]
    },
    {
      "cell_type": "code",
      "execution_count": null,
      "metadata": {
        "colab": {
          "background_save": true
        },
        "id": "jLfoImV7ds57",
        "outputId": "75231f01-07c7-49b8-c88b-2f28c3a7efa5"
      },
      "outputs": [
        {
          "data": {
            "image/png": "[encoded data removed]",
            "text/plain": [
              "<Figure size 720x288 with 2 Axes>"
            ]
          },
          "metadata": {},
          "output_type": "display_data"
        }
      ],
      "source": [
        "# Plot Learning Curves\n",
        "fig, ax = plt.subplots(1, 2, figsize=(10, 4))\n",
        "\n",
        "history_df = pd.DataFrame(history.history)\n",
        "history_df[['loss', 'val_loss']].plot(kind='line', ax=ax[0])\n",
        "history_df[['accuracy', 'val_accuracy']].plot(kind='line', ax=ax[1]);"
      ]
    },
    {
      "cell_type": "code",
      "execution_count": null,
      "metadata": {
        "colab": {
          "background_save": true
        },
        "id": "CbpiNvC3r9PK",
        "outputId": "aead005c-18bb-4112-88ba-442f7f4d9118"
      },
      "outputs": [
        {
          "name": "stdout",
          "output_type": "stream",
          "text": [
            "Saved trained model at /results/eye_model.h5 \n"
          ]
        }
      ],
      "source": [
        "# saving the model\n",
        "save_dir = \"/results/\"\n",
        "model_name = 'eye_model.h5'\n",
        "model.save(model_name)\n",
        "model_path = save_dir + model_name\n",
        "print('Saved trained model at %s ' % model_path)"
      ]
    },
    {
      "cell_type": "markdown",
      "metadata": {
        "id": "kLrpm-If-lRT"
      },
      "source": [
        "## Predict The Output For Testing Dataset"
      ]
    },
    {
      "cell_type": "markdown",
      "metadata": {
        "id": "nG70J6Un-s2G"
      },
      "source": [
        "## Load Test Set"
      ]
    },
    {
      "cell_type": "code",
      "execution_count": null,
      "metadata": {
        "id": "ndM4OOX_qP3a"
      },
      "outputs": [],
      "source": [
        "test_data = pd.read_csv(\"/content/drive/MyDrive/eye_gender_data/Testing_set.csv\" )\n",
        "file_paths_test = [[fname, '/content/drive/MyDrive/eye_gender_data/test/' + fname] for fname in test_data['filename']]\n",
        "images_test = pd.DataFrame(file_paths_test, columns=['filename', 'filepaths'])\n",
        "\n",
        "new_test_data = []\n",
        "#image_size = 32 \n",
        "\n",
        "for i in range(len(images_test)):\n",
        "  \n",
        "  img_array_test = cv2.imread(images_test['filepaths'][i], cv2.IMREAD_GRAYSCALE)   # converting the image to gray scale\n",
        "  new_img_array_test = cv2.resize(img_array_test, (image_size, image_size))      # resizing the image array\n",
        "  new_test_data.append(new_img_array_test)"
      ]
    },
    {
      "cell_type": "markdown",
      "metadata": {
        "id": "ZqSujaW0CRi9"
      },
      "source": [
        "## Data Pre-processing on test_data\n"
      ]
    },
    {
      "cell_type": "code",
      "execution_count": null,
      "metadata": {
        "id": "pQWUBcCp215g"
      },
      "outputs": [],
      "source": [
        "test_arr = np.array(new_test_data)"
      ]
    },
    {
      "cell_type": "code",
      "execution_count": null,
      "metadata": {
        "id": "Wy7-NZ7TCiSQ"
      },
      "outputs": [],
      "source": [
        "test_arr"
      ]
    },
    {
      "cell_type": "code",
      "execution_count": null,
      "metadata": {
        "id": "KHEGEoz1qpUb"
      },
      "outputs": [],
      "source": [
        "test_arr.shape"
      ]
    },
    {
      "cell_type": "code",
      "execution_count": null,
      "metadata": {
        "id": "7KNDswlffvYq"
      },
      "outputs": [],
      "source": [
        "# reshape into 3 channels for feeding into the model\n",
        "test_images_3ch = np.stack([test_arr]*3, axis=-1)\n",
        "print('\\nTest_images.shape: {}, of {}'.format(test_images_3ch.shape, test_images_3ch.dtype))"
      ]
    },
    {
      "cell_type": "code",
      "execution_count": null,
      "metadata": {
        "id": "lIeL1SHdCAcf"
      },
      "outputs": [],
      "source": [
        "# normalisation\n",
        "test_images_scaled = test_images_3ch / 255."
      ]
    },
    {
      "cell_type": "markdown",
      "metadata": {
        "id": "AxtDS6-0J0s2"
      },
      "source": [
        "## Make Prediction on Test Dataset"
      ]
    },
    {
      "cell_type": "code",
      "execution_count": null,
      "metadata": {
        "id": "yXLCDKVrJuzY"
      },
      "outputs": [],
      "source": [
        "test_predictions = model.predict(test_images_scaled)"
      ]
    },
    {
      "cell_type": "code",
      "execution_count": null,
      "metadata": {
        "id": "bMh35Wogw3xn"
      },
      "outputs": [],
      "source": [
        "images_test['predictprobability'] = test_predictions"
      ]
    },
    {
      "cell_type": "code",
      "execution_count": null,
      "metadata": {
        "id": "HqX-PljsxO0O"
      },
      "outputs": [],
      "source": [
        "def convert_to_label (row):\n",
        "  if row['predictprobability'] >=0.5:\n",
        "    return 'male'\n",
        "  else:\n",
        "    return 'female'\n",
        "\n",
        "images_test['predictlabel'] = images_test.apply(convert_to_label, axis=1)"
      ]
    },
    {
      "cell_type": "code",
      "execution_count": null,
      "metadata": {
        "id": "oUgvbHDq089T"
      },
      "outputs": [],
      "source": [
        "images_test.head()"
      ]
    },
    {
      "cell_type": "code",
      "execution_count": null,
      "metadata": {
        "id": "5aXgvbj-0_Mm"
      },
      "outputs": [],
      "source": [
        "images_test.tail()"
      ]
    },
    {
      "cell_type": "code",
      "execution_count": null,
      "metadata": {
        "id": "QYtTrvdc1JrO"
      },
      "outputs": [],
      "source": [
        "# Save prediction results locally via colab notebook\n",
        "images_test.to_csv(\"images_test.csv\", index = False) \n",
        "\n",
        "# To download the csv file locally\n",
        "from google.colab import files        \n",
        "files.download('images_test.csv')"
      ]
    },
    {
      "cell_type": "code",
      "execution_count": null,
      "metadata": {
        "id": "1G9Ia2zrA_vQ"
      },
      "outputs": [],
      "source": [
        "res = pd.DataFrame({'label': images_test['predictlabel']}) # prediction is nothing but the final predictions of your model on input features of your new unseen test data\n",
        "res.to_csv(\"submission.csv\", index = False)\n",
        "\n",
        "# To download the csv file locally\n",
        "from google.colab import files\n",
        "files.download('submission.csv')"
      ]
    }
  ],
  "metadata": {
    "accelerator": "GPU",
    "colab": {
      "collapsed_sections": [],
      "name": "eye-model.ipynb",
      "provenance": []
    },
    "kernelspec": {
      "display_name": "Python 3",
      "name": "python3"
    }
  },
  "nbformat": 4,
  "nbformat_minor": 0
}